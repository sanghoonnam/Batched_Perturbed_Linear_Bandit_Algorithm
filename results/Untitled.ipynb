{
 "cells": [
  {
   "cell_type": "code",
   "execution_count": 3,
   "id": "66d0520b-f4f8-46ae-8fcb-3185fb212895",
   "metadata": {},
   "outputs": [
    {
     "name": "stdout",
     "output_type": "stream",
     "text": [
      "results\n",
      "(4, 10, 50000)\n",
      "batch_complexity\n",
      "(4, 10)\n",
      "results_batch\n",
      "(4, 10, 50000)\n",
      "arms\n",
      "(2, 3)\n",
      "M\n",
      "()\n",
      "theta\n",
      "(2,)\n",
      "horizon\n",
      "()\n",
      "epsilon\n",
      "()\n"
     ]
    }
   ],
   "source": [
    "from numpy import load\n",
    "\n",
    "data = load('random_k_3_d_2.npz')\n",
    "lst = data.files\n",
    "for item in lst:\n",
    "    print(item)\n",
    "    print(data[item].shape)"
   ]
  }
 ],
 "metadata": {
  "kernelspec": {
   "display_name": "Python 3 (ipykernel)",
   "language": "python",
   "name": "python3"
  },
  "language_info": {
   "codemirror_mode": {
    "name": "ipython",
    "version": 3
   },
   "file_extension": ".py",
   "mimetype": "text/x-python",
   "name": "python",
   "nbconvert_exporter": "python",
   "pygments_lexer": "ipython3",
   "version": "3.11.7"
  }
 },
 "nbformat": 4,
 "nbformat_minor": 5
}
